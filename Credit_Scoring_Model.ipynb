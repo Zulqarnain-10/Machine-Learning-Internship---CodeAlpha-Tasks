{
  "nbformat": 4,
  "nbformat_minor": 0,
  "metadata": {
    "colab": {
      "provenance": []
    },
    "kernelspec": {
      "name": "python3",
      "display_name": "Python 3"
    },
    "language_info": {
      "name": "python"
    }
  },
  "cells": [
    {
      "cell_type": "markdown",
      "source": [
        "***CREDIT SCORING MODEL*** 📈"
      ],
      "metadata": {
        "id": "N74LrWlUI96c"
      }
    },
    {
      "cell_type": "markdown",
      "source": [
        "Import libraries"
      ],
      "metadata": {
        "id": "Y4fAWJ2VJqcj"
      }
    },
    {
      "cell_type": "code",
      "source": [
        "import pandas as pd\n",
        "import matplotlib.pyplot as plt\n",
        "import seaborn as sns\n",
        "\n",
        "from sklearn.model_selection import train_test_split\n",
        "from sklearn.impute import SimpleImputer\n",
        "from sklearn.preprocessing import StandardScaler, OneHotEncoder\n",
        "from sklearn.compose import ColumnTransformer\n",
        "from sklearn.pipeline import Pipeline\n",
        "from sklearn.ensemble import RandomForestClassifier\n",
        "from sklearn.preprocessing import FunctionTransformer\n",
        "from sklearn.metrics import classification_report, accuracy_score, confusion_matrix"
      ],
      "metadata": {
        "id": "3XRImL0RIP-q"
      },
      "execution_count": 10,
      "outputs": []
    },
    {
      "cell_type": "markdown",
      "source": [
        "Load and Inspect the Dataset"
      ],
      "metadata": {
        "id": "OSbQeYlmJ07b"
      }
    },
    {
      "cell_type": "code",
      "source": [
        "# Load the dataset\n",
        "train_data = pd.read_csv('Credit_Scoring.csv')\n",
        "\n",
        "# Display the first few rows and summary information to understand the data and identify the target variable\n",
        "print(train_data.head())\n",
        "print(train_data.describe())\n",
        "print(train_data.info())"
      ],
      "metadata": {
        "id": "N33aaMglI4Kh",
        "colab": {
          "base_uri": "https://localhost:8080/"
        },
        "outputId": "e9d3af18-e06d-4853-c19a-83b0cf5757ec"
      },
      "execution_count": 11,
      "outputs": [
        {
          "output_type": "stream",
          "name": "stdout",
          "text": [
            "       ID Customer_ID     Month           Name   Age          SSN Occupation  \\\n",
            "0  0x1602   CUS_0xd40   January  Aaron Maashoh    23  821-00-0265  Scientist   \n",
            "1  0x1603   CUS_0xd40  February  Aaron Maashoh    23  821-00-0265  Scientist   \n",
            "2  0x1604   CUS_0xd40     March  Aaron Maashoh  -500  821-00-0265  Scientist   \n",
            "3  0x1605   CUS_0xd40     April  Aaron Maashoh    23  821-00-0265  Scientist   \n",
            "4  0x1606   CUS_0xd40       May  Aaron Maashoh    23  821-00-0265  Scientist   \n",
            "\n",
            "  Annual_Income  Monthly_Inhand_Salary  Num_Bank_Accounts  ...  Credit_Mix  \\\n",
            "0      19114.12            1824.843333                  3  ...           _   \n",
            "1      19114.12                    NaN                  3  ...        Good   \n",
            "2      19114.12                    NaN                  3  ...        Good   \n",
            "3      19114.12                    NaN                  3  ...        Good   \n",
            "4      19114.12            1824.843333                  3  ...        Good   \n",
            "\n",
            "   Outstanding_Debt Credit_Utilization_Ratio     Credit_History_Age  \\\n",
            "0            809.98                26.822620  22 Years and 1 Months   \n",
            "1            809.98                31.944960                    NaN   \n",
            "2            809.98                28.609352  22 Years and 3 Months   \n",
            "3            809.98                31.377862  22 Years and 4 Months   \n",
            "4            809.98                24.797347  22 Years and 5 Months   \n",
            "\n",
            "   Payment_of_Min_Amount Total_EMI_per_month Amount_invested_monthly  \\\n",
            "0                     No           49.574949       80.41529543900253   \n",
            "1                     No           49.574949      118.28022162236736   \n",
            "2                     No           49.574949         81.699521264648   \n",
            "3                     No           49.574949       199.4580743910713   \n",
            "4                     No           49.574949      41.420153086217326   \n",
            "\n",
            "                  Payment_Behaviour     Monthly_Balance Credit_Score  \n",
            "0   High_spent_Small_value_payments  312.49408867943663         Good  \n",
            "1    Low_spent_Large_value_payments  284.62916249607184         Good  \n",
            "2   Low_spent_Medium_value_payments   331.2098628537912         Good  \n",
            "3    Low_spent_Small_value_payments  223.45130972736786         Good  \n",
            "4  High_spent_Medium_value_payments  341.48923103222177         Good  \n",
            "\n",
            "[5 rows x 28 columns]\n",
            "       Monthly_Inhand_Salary  Num_Bank_Accounts  Num_Credit_Card  \\\n",
            "count           14330.000000       16861.000000     16861.000000   \n",
            "mean             4302.357054          17.744914        23.616986   \n",
            "std              3220.323501         121.272573       134.040909   \n",
            "min               355.208333           0.000000         0.000000   \n",
            "25%              1663.025833           3.000000         4.000000   \n",
            "50%              3216.025833           6.000000         6.000000   \n",
            "75%              6080.968958           8.000000         7.000000   \n",
            "max             14855.930000        1789.000000      1486.000000   \n",
            "\n",
            "       Interest_Rate  Delay_from_due_date  Num_Credit_Inquiries  \\\n",
            "count   16861.000000         16861.000000          16517.000000   \n",
            "mean       71.900065            21.178341             25.801356   \n",
            "std       465.250341            14.707719            181.768004   \n",
            "min         1.000000            -5.000000              0.000000   \n",
            "25%         7.000000            10.000000              3.000000   \n",
            "50%        14.000000            18.000000              5.000000   \n",
            "75%        20.000000            28.000000              9.000000   \n",
            "max      5747.000000            67.000000           2592.000000   \n",
            "\n",
            "       Credit_Utilization_Ratio  Total_EMI_per_month  \n",
            "count              16861.000000         16861.000000  \n",
            "mean                  32.296261          1390.955131  \n",
            "std                    5.138845          8205.903857  \n",
            "min                   20.000000             0.000000  \n",
            "25%                   28.011655            30.201032  \n",
            "50%                   32.329492            70.479478  \n",
            "75%                   36.527949           168.131731  \n",
            "max                   50.000000         82256.000000  \n",
            "<class 'pandas.core.frame.DataFrame'>\n",
            "RangeIndex: 16861 entries, 0 to 16860\n",
            "Data columns (total 28 columns):\n",
            " #   Column                    Non-Null Count  Dtype  \n",
            "---  ------                    --------------  -----  \n",
            " 0   ID                        16861 non-null  object \n",
            " 1   Customer_ID               16861 non-null  object \n",
            " 2   Month                     16861 non-null  object \n",
            " 3   Name                      15193 non-null  object \n",
            " 4   Age                       16861 non-null  object \n",
            " 5   SSN                       16861 non-null  object \n",
            " 6   Occupation                16861 non-null  object \n",
            " 7   Annual_Income             16861 non-null  object \n",
            " 8   Monthly_Inhand_Salary     14330 non-null  float64\n",
            " 9   Num_Bank_Accounts         16861 non-null  int64  \n",
            " 10  Num_Credit_Card           16861 non-null  int64  \n",
            " 11  Interest_Rate             16861 non-null  int64  \n",
            " 12  Num_of_Loan               16861 non-null  object \n",
            " 13  Type_of_Loan              15005 non-null  object \n",
            " 14  Delay_from_due_date       16861 non-null  int64  \n",
            " 15  Num_of_Delayed_Payment    15670 non-null  object \n",
            " 16  Changed_Credit_Limit      16861 non-null  object \n",
            " 17  Num_Credit_Inquiries      16517 non-null  float64\n",
            " 18  Credit_Mix                16861 non-null  object \n",
            " 19  Outstanding_Debt          16861 non-null  object \n",
            " 20  Credit_Utilization_Ratio  16861 non-null  float64\n",
            " 21  Credit_History_Age        15311 non-null  object \n",
            " 22  Payment_of_Min_Amount     16861 non-null  object \n",
            " 23  Total_EMI_per_month       16861 non-null  float64\n",
            " 24  Amount_invested_monthly   16132 non-null  object \n",
            " 25  Payment_Behaviour         16860 non-null  object \n",
            " 26  Monthly_Balance           16646 non-null  object \n",
            " 27  Credit_Score              16860 non-null  object \n",
            "dtypes: float64(4), int64(4), object(20)\n",
            "memory usage: 3.6+ MB\n",
            "None\n"
          ]
        }
      ]
    },
    {
      "cell_type": "markdown",
      "source": [
        "Data Preprocessing"
      ],
      "metadata": {
        "id": "f3m0ABIUKI3-"
      }
    },
    {
      "cell_type": "code",
      "source": [
        "# Assuming 'Credit_Score' is the target and needs to be binarized\n",
        "target_variable_name = 'Credit_Score'  # Replace with the actual name of your target column\n",
        "train_data[target_variable_name] = train_data[target_variable_name].apply(lambda x: 1 if x == 'Good' else 0)\n",
        "\n",
        "# Prepare the feature matrix and target vector\n",
        "X = train_data.drop(target_variable_name, axis=1)\n",
        "y = train_data[target_variable_name]\n",
        "\n",
        "# Identify categorical and numerical columns for preprocessing\n",
        "categorical_cols = [col for col in X.columns if X[col].dtype == \"object\"]\n",
        "numerical_cols = [col for col in X.columns if X[col].dtype in ['int64', 'float64']]\n"
      ],
      "metadata": {
        "id": "OjWrlEpjJ4Aw"
      },
      "execution_count": 12,
      "outputs": []
    },
    {
      "cell_type": "markdown",
      "source": [
        "Further Preprocessing and Modeling Pipeline"
      ],
      "metadata": {
        "id": "x1uvB7TTHOWI"
      }
    },
    {
      "cell_type": "code",
      "source": [
        "# Preprocessing for numerical data\n",
        "numerical_transformer = Pipeline(steps=[\n",
        "    ('imputer', SimpleImputer(strategy='mean')),\n",
        "    ('scaler', StandardScaler())])\n",
        "\n",
        "# Preprocessing for categorical data\n",
        "categorical_transformer = Pipeline(steps=[\n",
        "    ('imputer', SimpleImputer(strategy='most_frequent')),\n",
        "    ('onehot', OneHotEncoder(handle_unknown='ignore'))])\n",
        "\n",
        "# Bundle preprocessing for numerical and categorical data\n",
        "preprocessor = ColumnTransformer(\n",
        "    transformers=[\n",
        "        ('num', numerical_transformer, numerical_cols),\n",
        "        ('cat', categorical_transformer, categorical_cols)])\n",
        "\n",
        "# Preprocessing for categorical data with conversion to strings\n",
        "categorical_transformer = Pipeline(steps=[\n",
        "    ('imputer', SimpleImputer(strategy='most_frequent')),\n",
        "    ('to_string', FunctionTransformer(lambda x: x.astype(str))),  # Convert to string\n",
        "    ('onehot', OneHotEncoder(handle_unknown='ignore'))])\n",
        "\n",
        "# Cast categorical columns to strings to avoid issues with mixed data types\n",
        "for col in categorical_cols:\n",
        "    X[col] = X[col].astype(str)\n",
        "\n",
        "# Updated preprocessing for categorical data\n",
        "categorical_transformer = Pipeline(steps=[\n",
        "    ('imputer', SimpleImputer(strategy='constant', fill_value='missing')),  # Fill missing values\n",
        "    ('onehot', OneHotEncoder(handle_unknown='ignore'))  # One-hot encode\n",
        "])\n",
        "\n",
        "# Define the model\n",
        "model = RandomForestClassifier(random_state=42)\n",
        "\n",
        "# Create a pipeline that combines the preprocessor with the model\n",
        "pipeline = Pipeline(steps=[('preprocessor', preprocessor),\n",
        "                           ('model', model)])"
      ],
      "metadata": {
        "id": "sczZ2LnGJ9cm"
      },
      "execution_count": 13,
      "outputs": []
    },
    {
      "cell_type": "markdown",
      "source": [
        "Split the Training Data for Validation"
      ],
      "metadata": {
        "id": "Q01E5lMQI5vO"
      }
    },
    {
      "cell_type": "code",
      "source": [
        "# Split the data into training and validation sets\n",
        "X_train, X_valid, y_train, y_valid = train_test_split(X, y, test_size=0.2, random_state=42)"
      ],
      "metadata": {
        "id": "XnHvB_30HgsE"
      },
      "execution_count": 14,
      "outputs": []
    },
    {
      "cell_type": "markdown",
      "source": [
        "Model Training"
      ],
      "metadata": {
        "id": "a_CHCtvYLP4r"
      }
    },
    {
      "cell_type": "code",
      "source": [
        "# Train the model\n",
        "pipeline.fit(X_train, y_train)\n"
      ],
      "metadata": {
        "colab": {
          "base_uri": "https://localhost:8080/",
          "height": 223
        },
        "id": "Q-eJtCFWR3zk",
        "outputId": "90873dde-a0c3-4942-91f9-25f87ded1391"
      },
      "execution_count": 8,
      "outputs": [
        {
          "output_type": "execute_result",
          "data": {
            "text/plain": [
              "Pipeline(steps=[('preprocessor',\n",
              "                 ColumnTransformer(transformers=[('num',\n",
              "                                                  Pipeline(steps=[('imputer',\n",
              "                                                                   SimpleImputer()),\n",
              "                                                                  ('scaler',\n",
              "                                                                   StandardScaler())]),\n",
              "                                                  ['Monthly_Inhand_Salary',\n",
              "                                                   'Num_Bank_Accounts',\n",
              "                                                   'Num_Credit_Card',\n",
              "                                                   'Interest_Rate',\n",
              "                                                   'Delay_from_due_date',\n",
              "                                                   'Num_Credit_Inquiries',\n",
              "                                                   'Credit_Utilization_Ratio',\n",
              "                                                   'Total_EMI_per_month']),\n",
              "                                                 ('cat',\n",
              "                                                  Pipeline(steps=[('imput...\n",
              "                                                  ['ID', 'Customer_ID', 'Month',\n",
              "                                                   'Name', 'Age', 'SSN',\n",
              "                                                   'Occupation',\n",
              "                                                   'Annual_Income',\n",
              "                                                   'Num_of_Loan',\n",
              "                                                   'Type_of_Loan',\n",
              "                                                   'Num_of_Delayed_Payment',\n",
              "                                                   'Changed_Credit_Limit',\n",
              "                                                   'Credit_Mix',\n",
              "                                                   'Outstanding_Debt',\n",
              "                                                   'Credit_History_Age',\n",
              "                                                   'Payment_of_Min_Amount',\n",
              "                                                   'Amount_invested_monthly',\n",
              "                                                   'Payment_Behaviour',\n",
              "                                                   'Monthly_Balance'])])),\n",
              "                ('model', RandomForestClassifier(random_state=42))])"
            ],
            "text/html": [
              "<style>#sk-container-id-1 {color: black;background-color: white;}#sk-container-id-1 pre{padding: 0;}#sk-container-id-1 div.sk-toggleable {background-color: white;}#sk-container-id-1 label.sk-toggleable__label {cursor: pointer;display: block;width: 100%;margin-bottom: 0;padding: 0.3em;box-sizing: border-box;text-align: center;}#sk-container-id-1 label.sk-toggleable__label-arrow:before {content: \"▸\";float: left;margin-right: 0.25em;color: #696969;}#sk-container-id-1 label.sk-toggleable__label-arrow:hover:before {color: black;}#sk-container-id-1 div.sk-estimator:hover label.sk-toggleable__label-arrow:before {color: black;}#sk-container-id-1 div.sk-toggleable__content {max-height: 0;max-width: 0;overflow: hidden;text-align: left;background-color: #f0f8ff;}#sk-container-id-1 div.sk-toggleable__content pre {margin: 0.2em;color: black;border-radius: 0.25em;background-color: #f0f8ff;}#sk-container-id-1 input.sk-toggleable__control:checked~div.sk-toggleable__content {max-height: 200px;max-width: 100%;overflow: auto;}#sk-container-id-1 input.sk-toggleable__control:checked~label.sk-toggleable__label-arrow:before {content: \"▾\";}#sk-container-id-1 div.sk-estimator input.sk-toggleable__control:checked~label.sk-toggleable__label {background-color: #d4ebff;}#sk-container-id-1 div.sk-label input.sk-toggleable__control:checked~label.sk-toggleable__label {background-color: #d4ebff;}#sk-container-id-1 input.sk-hidden--visually {border: 0;clip: rect(1px 1px 1px 1px);clip: rect(1px, 1px, 1px, 1px);height: 1px;margin: -1px;overflow: hidden;padding: 0;position: absolute;width: 1px;}#sk-container-id-1 div.sk-estimator {font-family: monospace;background-color: #f0f8ff;border: 1px dotted black;border-radius: 0.25em;box-sizing: border-box;margin-bottom: 0.5em;}#sk-container-id-1 div.sk-estimator:hover {background-color: #d4ebff;}#sk-container-id-1 div.sk-parallel-item::after {content: \"\";width: 100%;border-bottom: 1px solid gray;flex-grow: 1;}#sk-container-id-1 div.sk-label:hover label.sk-toggleable__label {background-color: #d4ebff;}#sk-container-id-1 div.sk-serial::before {content: \"\";position: absolute;border-left: 1px solid gray;box-sizing: border-box;top: 0;bottom: 0;left: 50%;z-index: 0;}#sk-container-id-1 div.sk-serial {display: flex;flex-direction: column;align-items: center;background-color: white;padding-right: 0.2em;padding-left: 0.2em;position: relative;}#sk-container-id-1 div.sk-item {position: relative;z-index: 1;}#sk-container-id-1 div.sk-parallel {display: flex;align-items: stretch;justify-content: center;background-color: white;position: relative;}#sk-container-id-1 div.sk-item::before, #sk-container-id-1 div.sk-parallel-item::before {content: \"\";position: absolute;border-left: 1px solid gray;box-sizing: border-box;top: 0;bottom: 0;left: 50%;z-index: -1;}#sk-container-id-1 div.sk-parallel-item {display: flex;flex-direction: column;z-index: 1;position: relative;background-color: white;}#sk-container-id-1 div.sk-parallel-item:first-child::after {align-self: flex-end;width: 50%;}#sk-container-id-1 div.sk-parallel-item:last-child::after {align-self: flex-start;width: 50%;}#sk-container-id-1 div.sk-parallel-item:only-child::after {width: 0;}#sk-container-id-1 div.sk-dashed-wrapped {border: 1px dashed gray;margin: 0 0.4em 0.5em 0.4em;box-sizing: border-box;padding-bottom: 0.4em;background-color: white;}#sk-container-id-1 div.sk-label label {font-family: monospace;font-weight: bold;display: inline-block;line-height: 1.2em;}#sk-container-id-1 div.sk-label-container {text-align: center;}#sk-container-id-1 div.sk-container {/* jupyter's `normalize.less` sets `[hidden] { display: none; }` but bootstrap.min.css set `[hidden] { display: none !important; }` so we also need the `!important` here to be able to override the default hidden behavior on the sphinx rendered scikit-learn.org. See: https://github.com/scikit-learn/scikit-learn/issues/21755 */display: inline-block !important;position: relative;}#sk-container-id-1 div.sk-text-repr-fallback {display: none;}</style><div id=\"sk-container-id-1\" class=\"sk-top-container\"><div class=\"sk-text-repr-fallback\"><pre>Pipeline(steps=[(&#x27;preprocessor&#x27;,\n",
              "                 ColumnTransformer(transformers=[(&#x27;num&#x27;,\n",
              "                                                  Pipeline(steps=[(&#x27;imputer&#x27;,\n",
              "                                                                   SimpleImputer()),\n",
              "                                                                  (&#x27;scaler&#x27;,\n",
              "                                                                   StandardScaler())]),\n",
              "                                                  [&#x27;Monthly_Inhand_Salary&#x27;,\n",
              "                                                   &#x27;Num_Bank_Accounts&#x27;,\n",
              "                                                   &#x27;Num_Credit_Card&#x27;,\n",
              "                                                   &#x27;Interest_Rate&#x27;,\n",
              "                                                   &#x27;Delay_from_due_date&#x27;,\n",
              "                                                   &#x27;Num_Credit_Inquiries&#x27;,\n",
              "                                                   &#x27;Credit_Utilization_Ratio&#x27;,\n",
              "                                                   &#x27;Total_EMI_per_month&#x27;]),\n",
              "                                                 (&#x27;cat&#x27;,\n",
              "                                                  Pipeline(steps=[(&#x27;imput...\n",
              "                                                  [&#x27;ID&#x27;, &#x27;Customer_ID&#x27;, &#x27;Month&#x27;,\n",
              "                                                   &#x27;Name&#x27;, &#x27;Age&#x27;, &#x27;SSN&#x27;,\n",
              "                                                   &#x27;Occupation&#x27;,\n",
              "                                                   &#x27;Annual_Income&#x27;,\n",
              "                                                   &#x27;Num_of_Loan&#x27;,\n",
              "                                                   &#x27;Type_of_Loan&#x27;,\n",
              "                                                   &#x27;Num_of_Delayed_Payment&#x27;,\n",
              "                                                   &#x27;Changed_Credit_Limit&#x27;,\n",
              "                                                   &#x27;Credit_Mix&#x27;,\n",
              "                                                   &#x27;Outstanding_Debt&#x27;,\n",
              "                                                   &#x27;Credit_History_Age&#x27;,\n",
              "                                                   &#x27;Payment_of_Min_Amount&#x27;,\n",
              "                                                   &#x27;Amount_invested_monthly&#x27;,\n",
              "                                                   &#x27;Payment_Behaviour&#x27;,\n",
              "                                                   &#x27;Monthly_Balance&#x27;])])),\n",
              "                (&#x27;model&#x27;, RandomForestClassifier(random_state=42))])</pre><b>In a Jupyter environment, please rerun this cell to show the HTML representation or trust the notebook. <br />On GitHub, the HTML representation is unable to render, please try loading this page with nbviewer.org.</b></div><div class=\"sk-container\" hidden><div class=\"sk-item sk-dashed-wrapped\"><div class=\"sk-label-container\"><div class=\"sk-label sk-toggleable\"><input class=\"sk-toggleable__control sk-hidden--visually\" id=\"sk-estimator-id-1\" type=\"checkbox\" ><label for=\"sk-estimator-id-1\" class=\"sk-toggleable__label sk-toggleable__label-arrow\">Pipeline</label><div class=\"sk-toggleable__content\"><pre>Pipeline(steps=[(&#x27;preprocessor&#x27;,\n",
              "                 ColumnTransformer(transformers=[(&#x27;num&#x27;,\n",
              "                                                  Pipeline(steps=[(&#x27;imputer&#x27;,\n",
              "                                                                   SimpleImputer()),\n",
              "                                                                  (&#x27;scaler&#x27;,\n",
              "                                                                   StandardScaler())]),\n",
              "                                                  [&#x27;Monthly_Inhand_Salary&#x27;,\n",
              "                                                   &#x27;Num_Bank_Accounts&#x27;,\n",
              "                                                   &#x27;Num_Credit_Card&#x27;,\n",
              "                                                   &#x27;Interest_Rate&#x27;,\n",
              "                                                   &#x27;Delay_from_due_date&#x27;,\n",
              "                                                   &#x27;Num_Credit_Inquiries&#x27;,\n",
              "                                                   &#x27;Credit_Utilization_Ratio&#x27;,\n",
              "                                                   &#x27;Total_EMI_per_month&#x27;]),\n",
              "                                                 (&#x27;cat&#x27;,\n",
              "                                                  Pipeline(steps=[(&#x27;imput...\n",
              "                                                  [&#x27;ID&#x27;, &#x27;Customer_ID&#x27;, &#x27;Month&#x27;,\n",
              "                                                   &#x27;Name&#x27;, &#x27;Age&#x27;, &#x27;SSN&#x27;,\n",
              "                                                   &#x27;Occupation&#x27;,\n",
              "                                                   &#x27;Annual_Income&#x27;,\n",
              "                                                   &#x27;Num_of_Loan&#x27;,\n",
              "                                                   &#x27;Type_of_Loan&#x27;,\n",
              "                                                   &#x27;Num_of_Delayed_Payment&#x27;,\n",
              "                                                   &#x27;Changed_Credit_Limit&#x27;,\n",
              "                                                   &#x27;Credit_Mix&#x27;,\n",
              "                                                   &#x27;Outstanding_Debt&#x27;,\n",
              "                                                   &#x27;Credit_History_Age&#x27;,\n",
              "                                                   &#x27;Payment_of_Min_Amount&#x27;,\n",
              "                                                   &#x27;Amount_invested_monthly&#x27;,\n",
              "                                                   &#x27;Payment_Behaviour&#x27;,\n",
              "                                                   &#x27;Monthly_Balance&#x27;])])),\n",
              "                (&#x27;model&#x27;, RandomForestClassifier(random_state=42))])</pre></div></div></div><div class=\"sk-serial\"><div class=\"sk-item sk-dashed-wrapped\"><div class=\"sk-label-container\"><div class=\"sk-label sk-toggleable\"><input class=\"sk-toggleable__control sk-hidden--visually\" id=\"sk-estimator-id-2\" type=\"checkbox\" ><label for=\"sk-estimator-id-2\" class=\"sk-toggleable__label sk-toggleable__label-arrow\">preprocessor: ColumnTransformer</label><div class=\"sk-toggleable__content\"><pre>ColumnTransformer(transformers=[(&#x27;num&#x27;,\n",
              "                                 Pipeline(steps=[(&#x27;imputer&#x27;, SimpleImputer()),\n",
              "                                                 (&#x27;scaler&#x27;, StandardScaler())]),\n",
              "                                 [&#x27;Monthly_Inhand_Salary&#x27;, &#x27;Num_Bank_Accounts&#x27;,\n",
              "                                  &#x27;Num_Credit_Card&#x27;, &#x27;Interest_Rate&#x27;,\n",
              "                                  &#x27;Delay_from_due_date&#x27;, &#x27;Num_Credit_Inquiries&#x27;,\n",
              "                                  &#x27;Credit_Utilization_Ratio&#x27;,\n",
              "                                  &#x27;Total_EMI_per_month&#x27;]),\n",
              "                                (&#x27;cat&#x27;,\n",
              "                                 Pipeline(steps=[(&#x27;imputer&#x27;,\n",
              "                                                  SimpleImputer(strategy=&#x27;most...,\n",
              "                                                 (&#x27;onehot&#x27;,\n",
              "                                                  OneHotEncoder(handle_unknown=&#x27;ignore&#x27;))]),\n",
              "                                 [&#x27;ID&#x27;, &#x27;Customer_ID&#x27;, &#x27;Month&#x27;, &#x27;Name&#x27;, &#x27;Age&#x27;,\n",
              "                                  &#x27;SSN&#x27;, &#x27;Occupation&#x27;, &#x27;Annual_Income&#x27;,\n",
              "                                  &#x27;Num_of_Loan&#x27;, &#x27;Type_of_Loan&#x27;,\n",
              "                                  &#x27;Num_of_Delayed_Payment&#x27;,\n",
              "                                  &#x27;Changed_Credit_Limit&#x27;, &#x27;Credit_Mix&#x27;,\n",
              "                                  &#x27;Outstanding_Debt&#x27;, &#x27;Credit_History_Age&#x27;,\n",
              "                                  &#x27;Payment_of_Min_Amount&#x27;,\n",
              "                                  &#x27;Amount_invested_monthly&#x27;,\n",
              "                                  &#x27;Payment_Behaviour&#x27;, &#x27;Monthly_Balance&#x27;])])</pre></div></div></div><div class=\"sk-parallel\"><div class=\"sk-parallel-item\"><div class=\"sk-item\"><div class=\"sk-label-container\"><div class=\"sk-label sk-toggleable\"><input class=\"sk-toggleable__control sk-hidden--visually\" id=\"sk-estimator-id-3\" type=\"checkbox\" ><label for=\"sk-estimator-id-3\" class=\"sk-toggleable__label sk-toggleable__label-arrow\">num</label><div class=\"sk-toggleable__content\"><pre>[&#x27;Monthly_Inhand_Salary&#x27;, &#x27;Num_Bank_Accounts&#x27;, &#x27;Num_Credit_Card&#x27;, &#x27;Interest_Rate&#x27;, &#x27;Delay_from_due_date&#x27;, &#x27;Num_Credit_Inquiries&#x27;, &#x27;Credit_Utilization_Ratio&#x27;, &#x27;Total_EMI_per_month&#x27;]</pre></div></div></div><div class=\"sk-serial\"><div class=\"sk-item\"><div class=\"sk-serial\"><div class=\"sk-item\"><div class=\"sk-estimator sk-toggleable\"><input class=\"sk-toggleable__control sk-hidden--visually\" id=\"sk-estimator-id-4\" type=\"checkbox\" ><label for=\"sk-estimator-id-4\" class=\"sk-toggleable__label sk-toggleable__label-arrow\">SimpleImputer</label><div class=\"sk-toggleable__content\"><pre>SimpleImputer()</pre></div></div></div><div class=\"sk-item\"><div class=\"sk-estimator sk-toggleable\"><input class=\"sk-toggleable__control sk-hidden--visually\" id=\"sk-estimator-id-5\" type=\"checkbox\" ><label for=\"sk-estimator-id-5\" class=\"sk-toggleable__label sk-toggleable__label-arrow\">StandardScaler</label><div class=\"sk-toggleable__content\"><pre>StandardScaler()</pre></div></div></div></div></div></div></div></div><div class=\"sk-parallel-item\"><div class=\"sk-item\"><div class=\"sk-label-container\"><div class=\"sk-label sk-toggleable\"><input class=\"sk-toggleable__control sk-hidden--visually\" id=\"sk-estimator-id-6\" type=\"checkbox\" ><label for=\"sk-estimator-id-6\" class=\"sk-toggleable__label sk-toggleable__label-arrow\">cat</label><div class=\"sk-toggleable__content\"><pre>[&#x27;ID&#x27;, &#x27;Customer_ID&#x27;, &#x27;Month&#x27;, &#x27;Name&#x27;, &#x27;Age&#x27;, &#x27;SSN&#x27;, &#x27;Occupation&#x27;, &#x27;Annual_Income&#x27;, &#x27;Num_of_Loan&#x27;, &#x27;Type_of_Loan&#x27;, &#x27;Num_of_Delayed_Payment&#x27;, &#x27;Changed_Credit_Limit&#x27;, &#x27;Credit_Mix&#x27;, &#x27;Outstanding_Debt&#x27;, &#x27;Credit_History_Age&#x27;, &#x27;Payment_of_Min_Amount&#x27;, &#x27;Amount_invested_monthly&#x27;, &#x27;Payment_Behaviour&#x27;, &#x27;Monthly_Balance&#x27;]</pre></div></div></div><div class=\"sk-serial\"><div class=\"sk-item\"><div class=\"sk-serial\"><div class=\"sk-item\"><div class=\"sk-estimator sk-toggleable\"><input class=\"sk-toggleable__control sk-hidden--visually\" id=\"sk-estimator-id-7\" type=\"checkbox\" ><label for=\"sk-estimator-id-7\" class=\"sk-toggleable__label sk-toggleable__label-arrow\">SimpleImputer</label><div class=\"sk-toggleable__content\"><pre>SimpleImputer(strategy=&#x27;most_frequent&#x27;)</pre></div></div></div><div class=\"sk-item\"><div class=\"sk-estimator sk-toggleable\"><input class=\"sk-toggleable__control sk-hidden--visually\" id=\"sk-estimator-id-8\" type=\"checkbox\" ><label for=\"sk-estimator-id-8\" class=\"sk-toggleable__label sk-toggleable__label-arrow\">OneHotEncoder</label><div class=\"sk-toggleable__content\"><pre>OneHotEncoder(handle_unknown=&#x27;ignore&#x27;)</pre></div></div></div></div></div></div></div></div></div></div><div class=\"sk-item\"><div class=\"sk-estimator sk-toggleable\"><input class=\"sk-toggleable__control sk-hidden--visually\" id=\"sk-estimator-id-9\" type=\"checkbox\" ><label for=\"sk-estimator-id-9\" class=\"sk-toggleable__label sk-toggleable__label-arrow\">RandomForestClassifier</label><div class=\"sk-toggleable__content\"><pre>RandomForestClassifier(random_state=42)</pre></div></div></div></div></div></div></div>"
            ]
          },
          "metadata": {},
          "execution_count": 8
        }
      ]
    },
    {
      "cell_type": "markdown",
      "source": [
        "Model's Performance Evaluation"
      ],
      "metadata": {
        "id": "JfLqjRuMML7x"
      }
    },
    {
      "cell_type": "code",
      "source": [
        "# Predict and evaluate the model\n",
        "y_pred = pipeline.predict(X_valid)\n",
        "\n",
        "# Display accuracy and classification report\n",
        "accuracy = accuracy_score(y_valid, y_pred)\n",
        "print(f'Accuracy: {accuracy}')\n",
        "print(classification_report(y_valid, y_pred))\n",
        "\n",
        "# Display confusion matrix\n",
        "conf_matrix = confusion_matrix(y_valid, y_pred)\n",
        "sns.heatmap(conf_matrix, annot=True, fmt='g')\n",
        "plt.xlabel('Predicted labels')\n",
        "plt.ylabel('True labels')\n",
        "plt.show()"
      ],
      "metadata": {
        "colab": {
          "base_uri": "https://localhost:8080/",
          "height": 629
        },
        "id": "324uvYuJMJFU",
        "outputId": "981484d5-7832-4541-97e0-86884d631b9e"
      },
      "execution_count": 9,
      "outputs": [
        {
          "output_type": "stream",
          "name": "stdout",
          "text": [
            "Accuracy: 0.8991995256448265\n",
            "              precision    recall  f1-score   support\n",
            "\n",
            "           0       0.91      0.98      0.94      2778\n",
            "           1       0.82      0.54      0.66       595\n",
            "\n",
            "    accuracy                           0.90      3373\n",
            "   macro avg       0.87      0.76      0.80      3373\n",
            "weighted avg       0.89      0.90      0.89      3373\n",
            "\n"
          ]
        },
        {
          "output_type": "display_data",
          "data": {
            "text/plain": [
              "<Figure size 640x480 with 2 Axes>"
            ],
            "image/png": "[encoded data removed]"
          },
          "metadata": {}
        }
      ]
    }
  ]
}
